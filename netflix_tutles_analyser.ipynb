{
  "nbformat": 4,
  "nbformat_minor": 0,
  "metadata": {
    "colab": {
      "name": "netflix_tutles_analyser.ipynb",
      "provenance": [],
      "authorship_tag": "ABX9TyO6aGXdxno1BV/pXGqMlVfj",
      "include_colab_link": true
    },
    "kernelspec": {
      "name": "python3",
      "display_name": "Python 3"
    },
    "language_info": {
      "name": "python"
    }
  },
  "cells": [
    {
      "cell_type": "markdown",
      "metadata": {
        "id": "view-in-github",
        "colab_type": "text"
      },
      "source": [
        "<a href=\"https://colab.research.google.com/github/nidhales/python/blob/main/netflix_tutles_analyser.ipynb\" target=\"_parent\"><img src=\"https://colab.research.google.com/assets/colab-badge.svg\" alt=\"Open In Colab\"/></a>"
      ]
    },
    {
      "cell_type": "code",
      "metadata": {
        "id": "zTBMJ6vPN2Bk"
      },
      "source": [
        "import pandas as pd \n",
        "df=pd.read_csv(\"netflix_titles.csv\")"
      ],
      "execution_count": 1,
      "outputs": []
    },
    {
      "cell_type": "markdown",
      "metadata": {
        "id": "vDQu9Dd7Oudh"
      },
      "source": [
        "Analyser les donées"
      ]
    },
    {
      "cell_type": "code",
      "metadata": {
        "colab": {
          "base_uri": "https://localhost:8080/"
        },
        "id": "S_J90GFcOpQJ",
        "outputId": "4778886e-33ae-48b6-89e0-200139ce0ff4"
      },
      "source": [
        "df[\"title\"].describe()"
      ],
      "execution_count": 2,
      "outputs": [
        {
          "output_type": "execute_result",
          "data": {
            "text/plain": [
              "count                       7787\n",
              "unique                      7787\n",
              "top       The Liar and His Lover\n",
              "freq                           1\n",
              "Name: title, dtype: object"
            ]
          },
          "metadata": {},
          "execution_count": 2
        }
      ]
    },
    {
      "cell_type": "code",
      "metadata": {
        "id": "JSJ1l0WdO1wl"
      },
      "source": [
        "df.release_year=df.release_year.apply(lambda x:x.replace(\"$\",\"\"))\n",
        "df.release_year=df.release_year.astype(object)"
      ],
      "execution_count": 4,
      "outputs": []
    },
    {
      "cell_type": "code",
      "metadata": {
        "colab": {
          "base_uri": "https://localhost:8080/"
        },
        "id": "-rYnOX5EO9eY",
        "outputId": "80112945-8ed5-4039-a98c-e8199891e4a9"
      },
      "source": [
        "df[\"release_year\"].mean()"
      ],
      "execution_count": 6,
      "outputs": [
        {
          "output_type": "execute_result",
          "data": {
            "text/plain": [
              "2013.932579940927"
            ]
          },
          "metadata": {},
          "execution_count": 6
        }
      ]
    },
    {
      "cell_type": "code",
      "metadata": {
        "colab": {
          "base_uri": "https://localhost:8080/"
        },
        "id": "SLxFLo6wPMQ0",
        "outputId": "a878b802-8c12-48f1-d48c-fcb9453b584e"
      },
      "source": [
        "df[\"release_year\"].sum()"
      ],
      "execution_count": 7,
      "outputs": [
        {
          "output_type": "execute_result",
          "data": {
            "text/plain": [
              "15682493"
            ]
          },
          "metadata": {},
          "execution_count": 7
        }
      ]
    },
    {
      "cell_type": "code",
      "metadata": {
        "colab": {
          "base_uri": "https://localhost:8080/"
        },
        "id": "XYsJM0aUPQCq",
        "outputId": "1fa4f99f-c897-465a-c395-9eb74020d974"
      },
      "source": [
        "df[\"release_year\"].min()"
      ],
      "execution_count": 8,
      "outputs": [
        {
          "output_type": "execute_result",
          "data": {
            "text/plain": [
              "1925"
            ]
          },
          "metadata": {},
          "execution_count": 8
        }
      ]
    },
    {
      "cell_type": "code",
      "metadata": {
        "colab": {
          "base_uri": "https://localhost:8080/"
        },
        "id": "FeJZIe4_PTBI",
        "outputId": "754ad2cf-eb49-4b79-f3a9-bcf80b953999"
      },
      "source": [
        "df[\"release_year\"].max()"
      ],
      "execution_count": 9,
      "outputs": [
        {
          "output_type": "execute_result",
          "data": {
            "text/plain": [
              "2021"
            ]
          },
          "metadata": {},
          "execution_count": 9
        }
      ]
    },
    {
      "cell_type": "code",
      "metadata": {
        "id": "w4NWqlEXPV8H"
      },
      "source": [
        "df[\"country\"].unique()"
      ],
      "execution_count": null,
      "outputs": []
    },
    {
      "cell_type": "markdown",
      "metadata": {
        "id": "9USpEmeoPiL8"
      },
      "source": [
        "nb de client pour chaque pays"
      ]
    },
    {
      "cell_type": "code",
      "metadata": {
        "colab": {
          "base_uri": "https://localhost:8080/"
        },
        "id": "IyyJlhA6Pgma",
        "outputId": "5054bbd4-1dfc-476b-a934-50f44dd210ae"
      },
      "source": [
        "df[\"country\"].value_counts()"
      ],
      "execution_count": 11,
      "outputs": [
        {
          "output_type": "execute_result",
          "data": {
            "text/plain": [
              "United States                                                                                                                  2555\n",
              "India                                                                                                                           923\n",
              "United Kingdom                                                                                                                  397\n",
              "Japan                                                                                                                           226\n",
              "South Korea                                                                                                                     183\n",
              "                                                                                                                               ... \n",
              "Germany, France, Russia                                                                                                           1\n",
              "United Kingdom, France, Germany, Spain                                                                                            1\n",
              "Ireland, United States                                                                                                            1\n",
              "Australia, Armenia, Japan, Jordan, Mexico, Mongolia, New Zealand, Philippines, South Africa, Sweden, United States, Uruguay       1\n",
              "Germany, France, United States, Canada, United Kingdom                                                                            1\n",
              "Name: country, Length: 681, dtype: int64"
            ]
          },
          "metadata": {},
          "execution_count": 11
        }
      ]
    },
    {
      "cell_type": "code",
      "metadata": {
        "colab": {
          "base_uri": "https://localhost:8080/"
        },
        "id": "5LkWQdQ_PpQF",
        "outputId": "ac86985d-3cdc-4c47-d1d6-4b3ed4077940"
      },
      "source": [
        "df[\"title\"].value_counts()"
      ],
      "execution_count": 12,
      "outputs": [
        {
          "output_type": "execute_result",
          "data": {
            "text/plain": [
              "The Liar and His Lover    1\n",
              "Wedding Unplanned         1\n",
              "Strong Island             1\n",
              "The Bounty Hunter         1\n",
              "Pink                      1\n",
              "                         ..\n",
              "Nasha Natasha             1\n",
              "Lockout                   1\n",
              "Hello, Love, Goodbye      1\n",
              "Watchman                  1\n",
              "A Dangerous Woman         1\n",
              "Name: title, Length: 7787, dtype: int64"
            ]
          },
          "metadata": {},
          "execution_count": 12
        }
      ]
    },
    {
      "cell_type": "code",
      "metadata": {
        "colab": {
          "base_uri": "https://localhost:8080/"
        },
        "id": "CAOj8ydzPtFW",
        "outputId": "3c9ac65d-94bd-468b-86b4-1eaa186e2eaa"
      },
      "source": [
        "df[\"title\"].value_counts(normalize=True)"
      ],
      "execution_count": 13,
      "outputs": [
        {
          "output_type": "execute_result",
          "data": {
            "text/plain": [
              "The Liar and His Lover    0.000128\n",
              "Wedding Unplanned         0.000128\n",
              "Strong Island             0.000128\n",
              "The Bounty Hunter         0.000128\n",
              "Pink                      0.000128\n",
              "                            ...   \n",
              "Nasha Natasha             0.000128\n",
              "Lockout                   0.000128\n",
              "Hello, Love, Goodbye      0.000128\n",
              "Watchman                  0.000128\n",
              "A Dangerous Woman         0.000128\n",
              "Name: title, Length: 7787, dtype: float64"
            ]
          },
          "metadata": {},
          "execution_count": 13
        }
      ]
    },
    {
      "cell_type": "code",
      "metadata": {
        "colab": {
          "base_uri": "https://localhost:8080/",
          "height": 449
        },
        "id": "Mb9uvyoFP0r2",
        "outputId": "66dd92be-9967-4ffe-a12b-ca66d9dcbacc"
      },
      "source": [
        "df.groupby(\"country\").sum()"
      ],
      "execution_count": 14,
      "outputs": [
        {
          "output_type": "execute_result",
          "data": {
            "text/html": [
              "<div>\n",
              "<style scoped>\n",
              "    .dataframe tbody tr th:only-of-type {\n",
              "        vertical-align: middle;\n",
              "    }\n",
              "\n",
              "    .dataframe tbody tr th {\n",
              "        vertical-align: top;\n",
              "    }\n",
              "\n",
              "    .dataframe thead th {\n",
              "        text-align: right;\n",
              "    }\n",
              "</style>\n",
              "<table border=\"1\" class=\"dataframe\">\n",
              "  <thead>\n",
              "    <tr style=\"text-align: right;\">\n",
              "      <th></th>\n",
              "      <th>release_year</th>\n",
              "    </tr>\n",
              "    <tr>\n",
              "      <th>country</th>\n",
              "      <th></th>\n",
              "    </tr>\n",
              "  </thead>\n",
              "  <tbody>\n",
              "    <tr>\n",
              "      <th>Argentina</th>\n",
              "      <td>100809</td>\n",
              "    </tr>\n",
              "    <tr>\n",
              "      <th>Argentina, Brazil, France, Poland, Germany, Denmark</th>\n",
              "      <td>2017</td>\n",
              "    </tr>\n",
              "    <tr>\n",
              "      <th>Argentina, Chile</th>\n",
              "      <td>2017</td>\n",
              "    </tr>\n",
              "    <tr>\n",
              "      <th>Argentina, Chile, Peru</th>\n",
              "      <td>2015</td>\n",
              "    </tr>\n",
              "    <tr>\n",
              "      <th>Argentina, France</th>\n",
              "      <td>2017</td>\n",
              "    </tr>\n",
              "    <tr>\n",
              "      <th>...</th>\n",
              "      <td>...</td>\n",
              "    </tr>\n",
              "    <tr>\n",
              "      <th>Venezuela</th>\n",
              "      <td>2017</td>\n",
              "    </tr>\n",
              "    <tr>\n",
              "      <th>Venezuela, Colombia</th>\n",
              "      <td>2007</td>\n",
              "    </tr>\n",
              "    <tr>\n",
              "      <th>Vietnam</th>\n",
              "      <td>10084</td>\n",
              "    </tr>\n",
              "    <tr>\n",
              "      <th>West Germany</th>\n",
              "      <td>1977</td>\n",
              "    </tr>\n",
              "    <tr>\n",
              "      <th>Zimbabwe</th>\n",
              "      <td>2017</td>\n",
              "    </tr>\n",
              "  </tbody>\n",
              "</table>\n",
              "<p>681 rows × 1 columns</p>\n",
              "</div>"
            ],
            "text/plain": [
              "                                                    release_year\n",
              "country                                                         \n",
              "Argentina                                                 100809\n",
              "Argentina, Brazil, France, Poland, Germany, Den...          2017\n",
              "Argentina, Chile                                            2017\n",
              "Argentina, Chile, Peru                                      2015\n",
              "Argentina, France                                           2017\n",
              "...                                                          ...\n",
              "Venezuela                                                   2017\n",
              "Venezuela, Colombia                                         2007\n",
              "Vietnam                                                    10084\n",
              "West Germany                                                1977\n",
              "Zimbabwe                                                    2017\n",
              "\n",
              "[681 rows x 1 columns]"
            ]
          },
          "metadata": {},
          "execution_count": 14
        }
      ]
    },
    {
      "cell_type": "code",
      "metadata": {
        "colab": {
          "base_uri": "https://localhost:8080/",
          "height": 449
        },
        "id": "EjFaMUNkP4ot",
        "outputId": "b25e876b-ae81-4b1f-bd1f-0057853fb37b"
      },
      "source": [
        "df.groupby(\"country\").mean()"
      ],
      "execution_count": 15,
      "outputs": [
        {
          "output_type": "execute_result",
          "data": {
            "text/html": [
              "<div>\n",
              "<style scoped>\n",
              "    .dataframe tbody tr th:only-of-type {\n",
              "        vertical-align: middle;\n",
              "    }\n",
              "\n",
              "    .dataframe tbody tr th {\n",
              "        vertical-align: top;\n",
              "    }\n",
              "\n",
              "    .dataframe thead th {\n",
              "        text-align: right;\n",
              "    }\n",
              "</style>\n",
              "<table border=\"1\" class=\"dataframe\">\n",
              "  <thead>\n",
              "    <tr style=\"text-align: right;\">\n",
              "      <th></th>\n",
              "      <th>release_year</th>\n",
              "    </tr>\n",
              "    <tr>\n",
              "      <th>country</th>\n",
              "      <th></th>\n",
              "    </tr>\n",
              "  </thead>\n",
              "  <tbody>\n",
              "    <tr>\n",
              "      <th>Argentina</th>\n",
              "      <td>2016.18</td>\n",
              "    </tr>\n",
              "    <tr>\n",
              "      <th>Argentina, Brazil, France, Poland, Germany, Denmark</th>\n",
              "      <td>2017.00</td>\n",
              "    </tr>\n",
              "    <tr>\n",
              "      <th>Argentina, Chile</th>\n",
              "      <td>2017.00</td>\n",
              "    </tr>\n",
              "    <tr>\n",
              "      <th>Argentina, Chile, Peru</th>\n",
              "      <td>2015.00</td>\n",
              "    </tr>\n",
              "    <tr>\n",
              "      <th>Argentina, France</th>\n",
              "      <td>2017.00</td>\n",
              "    </tr>\n",
              "    <tr>\n",
              "      <th>...</th>\n",
              "      <td>...</td>\n",
              "    </tr>\n",
              "    <tr>\n",
              "      <th>Venezuela</th>\n",
              "      <td>2017.00</td>\n",
              "    </tr>\n",
              "    <tr>\n",
              "      <th>Venezuela, Colombia</th>\n",
              "      <td>2007.00</td>\n",
              "    </tr>\n",
              "    <tr>\n",
              "      <th>Vietnam</th>\n",
              "      <td>2016.80</td>\n",
              "    </tr>\n",
              "    <tr>\n",
              "      <th>West Germany</th>\n",
              "      <td>1977.00</td>\n",
              "    </tr>\n",
              "    <tr>\n",
              "      <th>Zimbabwe</th>\n",
              "      <td>2017.00</td>\n",
              "    </tr>\n",
              "  </tbody>\n",
              "</table>\n",
              "<p>681 rows × 1 columns</p>\n",
              "</div>"
            ],
            "text/plain": [
              "                                                    release_year\n",
              "country                                                         \n",
              "Argentina                                                2016.18\n",
              "Argentina, Brazil, France, Poland, Germany, Den...       2017.00\n",
              "Argentina, Chile                                         2017.00\n",
              "Argentina, Chile, Peru                                   2015.00\n",
              "Argentina, France                                        2017.00\n",
              "...                                                          ...\n",
              "Venezuela                                                2017.00\n",
              "Venezuela, Colombia                                      2007.00\n",
              "Vietnam                                                  2016.80\n",
              "West Germany                                             1977.00\n",
              "Zimbabwe                                                 2017.00\n",
              "\n",
              "[681 rows x 1 columns]"
            ]
          },
          "metadata": {},
          "execution_count": 15
        }
      ]
    },
    {
      "cell_type": "markdown",
      "metadata": {
        "id": "M1Zy8kocP-y1"
      },
      "source": [
        "spécifier une colonne"
      ]
    },
    {
      "cell_type": "code",
      "metadata": {
        "colab": {
          "base_uri": "https://localhost:8080/"
        },
        "id": "4Nnd1_P2P8M9",
        "outputId": "3a9c0aa2-e708-4758-bcde-4c3102d34805"
      },
      "source": [
        "df.groupby(\"country\")[\"release_year\"].mean()"
      ],
      "execution_count": 17,
      "outputs": [
        {
          "output_type": "execute_result",
          "data": {
            "text/plain": [
              "country\n",
              "Argentina                                              2016.18\n",
              "Argentina, Brazil, France, Poland, Germany, Denmark    2017.00\n",
              "Argentina, Chile                                       2017.00\n",
              "Argentina, Chile, Peru                                 2015.00\n",
              "Argentina, France                                      2017.00\n",
              "                                                        ...   \n",
              "Venezuela                                              2017.00\n",
              "Venezuela, Colombia                                    2007.00\n",
              "Vietnam                                                2016.80\n",
              "West Germany                                           1977.00\n",
              "Zimbabwe                                               2017.00\n",
              "Name: release_year, Length: 681, dtype: float64"
            ]
          },
          "metadata": {},
          "execution_count": 17
        }
      ]
    },
    {
      "cell_type": "code",
      "metadata": {
        "colab": {
          "base_uri": "https://localhost:8080/"
        },
        "id": "QxiSl_sYQLKb",
        "outputId": "334e23d5-c411-45a8-8979-911a09f25fe4"
      },
      "source": [
        "df.groupby(\"country\")[\"release_year\"].sum()"
      ],
      "execution_count": 18,
      "outputs": [
        {
          "output_type": "execute_result",
          "data": {
            "text/plain": [
              "country\n",
              "Argentina                                              100809\n",
              "Argentina, Brazil, France, Poland, Germany, Denmark      2017\n",
              "Argentina, Chile                                         2017\n",
              "Argentina, Chile, Peru                                   2015\n",
              "Argentina, France                                        2017\n",
              "                                                        ...  \n",
              "Venezuela                                                2017\n",
              "Venezuela, Colombia                                      2007\n",
              "Vietnam                                                 10084\n",
              "West Germany                                             1977\n",
              "Zimbabwe                                                 2017\n",
              "Name: release_year, Length: 681, dtype: int64"
            ]
          },
          "metadata": {},
          "execution_count": 18
        }
      ]
    },
    {
      "cell_type": "markdown",
      "metadata": {
        "id": "SjtCWdSHQRB2"
      },
      "source": [
        "savoir au argentina les release year des film"
      ]
    },
    {
      "cell_type": "code",
      "metadata": {
        "colab": {
          "base_uri": "https://localhost:8080/",
          "height": 449
        },
        "id": "_gzhYqbhQRnx",
        "outputId": "fb7756a0-57a8-41a4-84bc-5f43671a4f5c"
      },
      "source": [
        "df.groupby([\"cast\",\"country\"]).mean()"
      ],
      "execution_count": 21,
      "outputs": [
        {
          "output_type": "execute_result",
          "data": {
            "text/html": [
              "<div>\n",
              "<style scoped>\n",
              "    .dataframe tbody tr th:only-of-type {\n",
              "        vertical-align: middle;\n",
              "    }\n",
              "\n",
              "    .dataframe tbody tr th {\n",
              "        vertical-align: top;\n",
              "    }\n",
              "\n",
              "    .dataframe thead th {\n",
              "        text-align: right;\n",
              "    }\n",
              "</style>\n",
              "<table border=\"1\" class=\"dataframe\">\n",
              "  <thead>\n",
              "    <tr style=\"text-align: right;\">\n",
              "      <th></th>\n",
              "      <th></th>\n",
              "      <th>release_year</th>\n",
              "    </tr>\n",
              "    <tr>\n",
              "      <th>cast</th>\n",
              "      <th>country</th>\n",
              "      <th></th>\n",
              "    </tr>\n",
              "  </thead>\n",
              "  <tbody>\n",
              "    <tr>\n",
              "      <th>4Minute, B1A4, BtoB, ELSIE, EXID, EXO, Got7, INFINITE, KARA, Shinee, Sistar, VIXX, Nine Muses, BTS, Secret, Topp Dogg</th>\n",
              "      <th>South Korea</th>\n",
              "      <td>2015.0</td>\n",
              "    </tr>\n",
              "    <tr>\n",
              "      <th>50 Cent, Ryan Phillippe, Bruce Willis, Rory Markham, Jenna Dewan, Brett Granstaff, Randy Couture, Susie Abromeit, Ron Turner, James Remar</th>\n",
              "      <th>United States</th>\n",
              "      <td>2011.0</td>\n",
              "    </tr>\n",
              "    <tr>\n",
              "      <th>A.J. LoCascio, Sendhil Ramamurthy, Fred Tatasciore, Jake Johnson, Lauren Lapkus, Zachary Levi, BD Wong, David Gunning</th>\n",
              "      <th>United States</th>\n",
              "      <td>2016.0</td>\n",
              "    </tr>\n",
              "    <tr>\n",
              "      <th>A.R. Rahman</th>\n",
              "      <th>India</th>\n",
              "      <td>2017.0</td>\n",
              "    </tr>\n",
              "    <tr>\n",
              "      <th>Aadhi, Tapsee Pannu, Ritika Singh, Vennela Kishore, Sapthagiri</th>\n",
              "      <th>India</th>\n",
              "      <td>2018.0</td>\n",
              "    </tr>\n",
              "    <tr>\n",
              "      <th>...</th>\n",
              "      <th>...</th>\n",
              "      <td>...</td>\n",
              "    </tr>\n",
              "    <tr>\n",
              "      <th>İbrahim Büyükak, Zeynep Koçak, Gupse Özay, Cengiz Bozkurt</th>\n",
              "      <th>Turkey</th>\n",
              "      <td>2016.0</td>\n",
              "    </tr>\n",
              "    <tr>\n",
              "      <th>İbrahim Çelikkol, Belçim Bilgin, Alican Yücesoy, Teoman Kumbaracıbaşı, Serdar Yeğin, Tülay Günal, Gözde Cığacı, Ferit Aktuğ, Rojda Demirer, Aybars Kartal Özson</th>\n",
              "      <th>Turkey</th>\n",
              "      <td>2016.0</td>\n",
              "    </tr>\n",
              "    <tr>\n",
              "      <th>Şahin Irmak, İrem Sak, Gonca Vuslateri, Emre Karayel, Duygu Yetiş, Onur Buldu, Salih Kalyon, Bilge Şen, Nilgün Belgün, Hakan Akın</th>\n",
              "      <th>Turkey</th>\n",
              "      <td>2018.0</td>\n",
              "    </tr>\n",
              "    <tr>\n",
              "      <th>Şükrü Özyıldız, Aslı Enver, Şenay Gürler, Başak Parlak, Mahir Günşiray, Hakan Boyav, Hakan Gerçek, Berrak Kuş, Gamze Süner Atay, Mehmet Esen</th>\n",
              "      <th>Turkey</th>\n",
              "      <td>2014.0</td>\n",
              "    </tr>\n",
              "    <tr>\n",
              "      <th>Ṣọpẹ́ Dìrísù, Wunmi Mosaku, Matt Smith, Malaika Wakoli-Abigaba</th>\n",
              "      <th>United Kingdom</th>\n",
              "      <td>2020.0</td>\n",
              "    </tr>\n",
              "  </tbody>\n",
              "</table>\n",
              "<p>6495 rows × 1 columns</p>\n",
              "</div>"
            ],
            "text/plain": [
              "                                                                   release_year\n",
              "cast                                               country                     \n",
              "4Minute, B1A4, BtoB, ELSIE, EXID, EXO, Got7, IN... South Korea           2015.0\n",
              "50 Cent, Ryan Phillippe, Bruce Willis, Rory Mar... United States         2011.0\n",
              "A.J. LoCascio, Sendhil Ramamurthy, Fred Tatasci... United States         2016.0\n",
              "A.R. Rahman                                        India                 2017.0\n",
              "Aadhi, Tapsee Pannu, Ritika Singh, Vennela Kish... India                 2018.0\n",
              "...                                                                         ...\n",
              "İbrahim Büyükak, Zeynep Koçak, Gupse Özay, Ceng... Turkey                2016.0\n",
              "İbrahim Çelikkol, Belçim Bilgin, Alican Yücesoy... Turkey                2016.0\n",
              "Şahin Irmak, İrem Sak, Gonca Vuslateri, Emre Ka... Turkey                2018.0\n",
              "Şükrü Özyıldız, Aslı Enver, Şenay Gürler, Başak... Turkey                2014.0\n",
              "Ṣọpẹ́ Dìrísù, Wunmi Mosaku, Matt Smith, Malaika... United Kingdom        2020.0\n",
              "\n",
              "[6495 rows x 1 columns]"
            ]
          },
          "metadata": {},
          "execution_count": 21
        }
      ]
    },
    {
      "cell_type": "markdown",
      "metadata": {
        "id": "rm3IHFY4QzcN"
      },
      "source": [
        "Graphique"
      ]
    },
    {
      "cell_type": "code",
      "metadata": {
        "colab": {
          "base_uri": "https://localhost:8080/",
          "height": 308
        },
        "id": "jR_Ou-KgQv98",
        "outputId": "cd6bddf0-920f-4a6a-e744-46b80d9b7de9"
      },
      "source": [
        "df.groupby(\"release_year\")[\"release_year\"].sum().plot()"
      ],
      "execution_count": 26,
      "outputs": [
        {
          "output_type": "execute_result",
          "data": {
            "text/plain": [
              "<matplotlib.axes._subplots.AxesSubplot at 0x7ff7d0407f50>"
            ]
          },
          "metadata": {},
          "execution_count": 26
        },
        {
          "output_type": "display_data",
          "data": {
            "image/png": "[encoded data removed]",
            "text/plain": [
              "<Figure size 432x288 with 1 Axes>"
            ]
          },
          "metadata": {
            "needs_background": "light"
          }
        }
      ]
    },
    {
      "cell_type": "code",
      "metadata": {
        "colab": {
          "base_uri": "https://localhost:8080/",
          "height": 635
        },
        "id": "_tduW3RMRptF",
        "outputId": "b2f4ac54-05e7-4bc4-af24-b9c37ca00a21"
      },
      "source": [
        "df.groupby(\"release_year\")[\"release_year\"].sum().plot(figsize=[20,10])"
      ],
      "execution_count": 27,
      "outputs": [
        {
          "output_type": "execute_result",
          "data": {
            "text/plain": [
              "<matplotlib.axes._subplots.AxesSubplot at 0x7ff7d0348e10>"
            ]
          },
          "metadata": {},
          "execution_count": 27
        },
        {
          "output_type": "display_data",
          "data": {
            "image/png": "[encoded data removed]",
            "text/plain": [
              "<Figure size 1440x720 with 1 Axes>"
            ]
          },
          "metadata": {
            "needs_background": "light"
          }
        }
      ]
    },
    {
      "cell_type": "code",
      "metadata": {
        "colab": {
          "base_uri": "https://localhost:8080/"
        },
        "id": "DR4WCwNNRoS_",
        "outputId": "4569e7e9-ebdf-436d-a2a2-d5c82d94f5e9"
      },
      "source": [
        "df.groupby(\"release_year\")[\"show_id\"].sum()"
      ],
      "execution_count": 30,
      "outputs": [
        {
          "output_type": "execute_result",
          "data": {
            "text/plain": [
              "release_year\n",
              "1925                                                s4868\n",
              "1942                                           s4961s6118\n",
              "1943                                      s7343s7617s7680\n",
              "1944                                      s6658s6700s7269\n",
              "1945                                      s3426s4437s5372\n",
              "                              ...                        \n",
              "2017    s11s20s23s24s34s42s48s49s59s61s68s88s90s94s111...\n",
              "2018    s12s14s17s18s21s22s32s35s52s53s70s77s83s87s93s...\n",
              "2019    s7s9s13s15s19s29s40s65s76s86s109s110s113s115s1...\n",
              "2020    s1s25s27s28s30s31s33s44s54s58s64s74s107s108s14...\n",
              "2021    s981s1223s1286s1356s1441s1515s1529s1781s1865s2...\n",
              "Name: show_id, Length: 73, dtype: object"
            ]
          },
          "metadata": {},
          "execution_count": 30
        }
      ]
    },
    {
      "cell_type": "code",
      "metadata": {
        "colab": {
          "base_uri": "https://localhost:8080/",
          "height": 1000
        },
        "id": "79MB4B70SBjw",
        "outputId": "dfb5b757-7496-4303-d8e5-b19160b7e237"
      },
      "source": [
        "df.groupby(\"release_year\")[\"release_year\"].sum().plot.pie(legend=True)"
      ],
      "execution_count": 32,
      "outputs": [
        {
          "output_type": "execute_result",
          "data": {
            "text/plain": [
              "<matplotlib.axes._subplots.AxesSubplot at 0x7ff7cfe6ce90>"
            ]
          },
          "metadata": {},
          "execution_count": 32
        },
        {
          "output_type": "display_data",
          "data": {
            "image/png": "[encoded data removed]",
            "text/plain": [
              "<Figure size 432x288 with 1 Axes>"
            ]
          },
          "metadata": {}
        }
      ]
    },
    {
      "cell_type": "code",
      "metadata": {
        "colab": {
          "base_uri": "https://localhost:8080/",
          "height": 336
        },
        "id": "CHP0hRJUSLyt",
        "outputId": "30e53374-3281-4fa9-c0be-c86cda900a43"
      },
      "source": [
        "df.groupby(\"type\")[\"release_year\"].sum().plot.bar(rot=45, legend=True)"
      ],
      "execution_count": 41,
      "outputs": [
        {
          "output_type": "execute_result",
          "data": {
            "text/plain": [
              "<matplotlib.axes._subplots.AxesSubplot at 0x7ff7ce93b490>"
            ]
          },
          "metadata": {},
          "execution_count": 41
        },
        {
          "output_type": "display_data",
          "data": {
            "image/png": "[encoded data removed]",
            "text/plain": [
              "<Figure size 432x288 with 1 Axes>"
            ]
          },
          "metadata": {
            "needs_background": "light"
          }
        }
      ]
    }
  ]
}